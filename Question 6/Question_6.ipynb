{
 "cells": [
  {
   "cell_type": "markdown",
   "id": "0858534c-0176-43d4-b6d4-6ca100648bb3",
   "metadata": {},
   "source": [
    "# How much average monthly income I could expect from my investments in terms of lease/rent after upgrading properties, paying mortgage, and paying taxes. Calculate my ~ROI."
   ]
  },
  {
   "cell_type": "code",
   "execution_count": 48,
   "id": "5ac22e2c-6e8c-40d2-964d-abca469a9765",
   "metadata": {},
   "outputs": [
    {
     "ename": "ModuleNotFoundError",
     "evalue": "No module named 'us'",
     "output_type": "error",
     "traceback": [
      "\u001b[0;31m---------------------------------------------------------------------------\u001b[0m",
      "\u001b[0;31mModuleNotFoundError\u001b[0m                       Traceback (most recent call last)",
      "Cell \u001b[0;32mIn[48], line 5\u001b[0m\n\u001b[1;32m      3\u001b[0m \u001b[38;5;28;01mimport\u001b[39;00m \u001b[38;5;21;01mmatplotlib\u001b[39;00m\u001b[38;5;21;01m.\u001b[39;00m\u001b[38;5;21;01mpyplot\u001b[39;00m \u001b[38;5;28;01mas\u001b[39;00m \u001b[38;5;21;01mplt\u001b[39;00m\n\u001b[1;32m      4\u001b[0m \u001b[38;5;28;01mimport\u001b[39;00m \u001b[38;5;21;01mos\u001b[39;00m\n\u001b[0;32m----> 5\u001b[0m \u001b[38;5;28;01mimport\u001b[39;00m \u001b[38;5;21;01mus\u001b[39;00m\n",
      "\u001b[0;31mModuleNotFoundError\u001b[0m: No module named 'us'"
     ]
    }
   ],
   "source": [
    "import pandas as pd\n",
    "import numpy as np\n",
    "import matplotlib.pyplot as plt\n",
    "import os\n",
    "import us"
   ]
  },
  {
   "cell_type": "markdown",
   "id": "2741494a-8e82-474d-9bd3-4c13e4dfd8bc",
   "metadata": {},
   "source": [
    "## Assumptions\n",
    "\n",
    "- Apply an average upgrade cost to all properties (2%-6%, assume 4%) [Google](https://www.google.com/search?sca_esv=f9439907e5543505&rlz=1C5CHFA_enUS1066US1066&sxsrf=ADLYWIKGALe9lErWdMYpzzi_ACDXvpSxuQ:1733020033405&q=So+if+I+buy+a+house,+what+is+the+average+cost+to+spruce+up+the+house+(i.+paint,+carpet,+etc)?+Is+there+a+percentage+I+can+apply+to+the+home+value+to+get+this+value?&spell=1&sa=X&ved=2ahUKEwjY-OrbwoWKAxVarYkEHXoMMNsQBSgAegQIDRAB&biw=2560&bih=1318&dpr=1)\n",
    "- Mortage rate: 6.31% **Source:** [Bankrate](https://www.bankrate.com/mortgages/mortgage-rates/)\n",
    "- 30 year fixed mortgage, 20% down payment\n",
    "- Property tax rates by state imported as property_tax_rates.csv **Source:** [Maptive](https://www.maptive.com/interactive-maps/property-taxes-by-state/)\n",
    "- Renters pay all utilities\n",
    "- Rent rates: Imported as rent_rates.csv **Source:** [Rentdata](https://www.rentdata.org/states/2024)"
   ]
  },
  {
   "cell_type": "markdown",
   "id": "556a63f2-6981-488a-808f-4daf96e32f65",
   "metadata": {},
   "source": [
    "## Rent analysis for 1-4 bedroom properties (Single Family and Condo included)\n",
    "- We are not analyzing 5+ bedroom data from Zillow since we can't determine the rent per bedroom since all properties with 5+ bedrooms are included."
   ]
  },
  {
   "cell_type": "markdown",
   "id": "b240de86-f5b4-412d-b8b8-cf36b42904f2",
   "metadata": {},
   "source": [
    "### Data Loading"
   ]
  },
  {
   "cell_type": "code",
   "execution_count": null,
   "id": "7c697e1d-0f42-4074-952e-1d00343c12cd",
   "metadata": {},
   "outputs": [],
   "source": [
    "# File paths\n",
    "tax_rates_file_path = 'property_tax_rates.csv'\n",
    "rent_rates_file_path = 'rent_rates.csv'\n",
    "price_data_1br_path = 'Zip_zhvi_bdrmcnt_1_uc_sfrcondo_tier_0.33_0.67_sm_sa_month.csv'\n",
    "price_data_2br_path = 'Zip_zhvi_bdrmcnt_2_uc_sfrcondo_tier_0.33_0.67_sm_sa_month.csv'\n",
    "price_data_3br_path = 'Zip_zhvi_bdrmcnt_3_uc_sfrcondo_tier_0.33_0.67_sm_sa_month.csv'\n",
    "price_data_4br_path = 'Zip_zhvi_bdrmcnt_4_uc_sfrcondo_tier_0.33_0.67_sm_sa_month.csv'\n",
    "\n",
    "# Load the CSV files into pandas DataFrames\n",
    "tax_rates = pd.read_csv(tax_rates_file_path)\n",
    "rent_rates = pd.read_csv(rent_rates_file_path)\n",
    "price_data_1br = pd.read_csv(price_data_1br_path)\n",
    "price_data_2br = pd.read_csv(price_data_2br_path)\n",
    "price_data_3br = pd.read_csv(price_data_3br_path)\n",
    "price_data_4br = pd.read_csv(price_data_4br_path)\n",
    "\n",
    "# State names in the property_tax_rates and rent_rates\n",
    "# need to be converted into a abbreviations to easily join data from the Zillow data set\n",
    "# Use the us Python library to do this easily\n",
    "tax_rates['State'] = tax_rates['State'].apply(lambda x: us.states.lookup(x).abbr)\n",
    "rent_rates['State'] = rent_rates['State'].apply(lambda x: us.states.lookup(x).abbr)"
   ]
  },
  {
   "cell_type": "markdown",
   "id": "36d1e720-10d9-4e06-8d76-24554def9036",
   "metadata": {},
   "source": [
    "### Data Cleaning"
   ]
  },
  {
   "cell_type": "code",
   "execution_count": null,
   "id": "f1988e08-9f6d-4f7d-b928-3c153ad42949",
   "metadata": {},
   "outputs": [],
   "source": [
    "# Since we're analyze the most recent house price data (October 2024), we can ignore all other months if they are blank.\n",
    "# However we should remove rows where October 2024 data is missing from all price data\n",
    "\n",
    "# Using 10/31/24 as the column key was giving an error\n",
    "oct_2024_column = '2024-10-31'\n",
    "\n",
    "# Keep rows with October 2024 data in the cell since we're only analyzing that month\n",
    "price_data_1br = price_data_1br[price_data_1br[oct_2024_column].notna()]\n",
    "price_data_2br = price_data_2br[price_data_2br[oct_2024_column].notna()]\n",
    "price_data_3br = price_data_3br[price_data_3br[oct_2024_column].notna()]\n",
    "price_data_4br = price_data_4br[price_data_4br[oct_2024_column].notna()]"
   ]
  },
  {
   "cell_type": "markdown",
   "id": "6ae99e9c-7243-4aa6-a003-cb9c81ebd65a",
   "metadata": {},
   "source": [
    "### Calculations assuming buying a house with a 20% downpayment mortgage"
   ]
  },
  {
   "cell_type": "code",
   "execution_count": null,
   "id": "f17ae02e-5924-4cff-aa94-6257434debdd",
   "metadata": {},
   "outputs": [],
   "source": [
    "# Constants for calculation (taken from Assumptions section)\n",
    "repair_cost_rate = 0.04\n",
    "down_payment_rate = 0.20\n",
    "mortgage_rate = 0.0631\n",
    "\n",
    "# Filter tax rates by state and year (2024)\n",
    "tax_rates_2024 = tax_rates[['State', '2024']]\n",
    "\n",
    "# Function to calculate NOI for each row\n",
    "def calculate_noi(row, bedroom_size):\n",
    "    price = row[oct_2024_column]\n",
    "    display(price)\n",
    "    state = row['State']\n",
    "    display(state)\n",
    "    \n",
    "    # Get tax rate\n",
    "    tax_rate = tax_rates_2024.loc[tax_rates_2024['State'] == state, '2024'].values\n",
    "    display(tax_rate)\n",
    "    \n",
    "    # Get rent rate\n",
    "    rent_rate = rent_rates.loc[rent_rates['State'] == state, bedroom_size].values\n",
    "    \n",
    "    tax_rate = tax_rate[0]\n",
    "    rent_rate = rent_rate[0]\n",
    "    \n",
    "    # Calculate expenses\n",
    "    annual_taxes = price * tax_rate\n",
    "    # annual_repairs = price * repair_cost_rate\n",
    "    loan_amount = price * (1 - down_payment_rate)\n",
    "    \n",
    "    # Mortgage payment calculation\n",
    "    monthly_mortgage_payment = loan_amount * (monthly_interest_rate * (1 + monthly_interest_rate)**total_payments) / ((1 + monthly_interest_rate)**total_payments - 1)\n",
    "    annual_mortgage_payment = monthly_mortgage_payment * 12\n",
    "    \n",
    "    annual_rent_income = rent_rate * 12\n",
    "    \n",
    "    # NOI calculation\n",
    "    noi = annual_rent_income - (annual_taxes + annual_mortgage_payment)\n",
    "    return noi\n",
    "\n",
    "# Apply the function to calculate Net Operating Income (NOI) for each dataset\n",
    "price_data_1br['NOI'] = price_data_1br.apply(lambda row: calculate_noi(row, '1 BR'), axis=1)\n",
    "price_data_2br['NOI'] = price_data_2br.apply(lambda row: calculate_noi(row, '2 BR'), axis=1)\n",
    "price_data_3br['NOI'] = price_data_3br.apply(lambda row: calculate_noi(row, '3 BR'), axis=1)\n",
    "price_data_4br['NOI'] = price_data_4br.apply(lambda row: calculate_noi(row, '4 BR'), axis=1)\n",
    "\n",
    "# Display the first few rows with NOI for each dataset\n",
    "print(\"1 Bedroom NOI Data:\")\n",
    "print(price_data_1br['NOI'].nlargest(3))\n",
    "\n",
    "print(\"\\n2 Bedroom NOI Data:\")\n",
    "print(price_data_2br['NOI'].nlargest(3))\n",
    "\n",
    "print(\"\\n3 Bedroom NOI Data:\")\n",
    "print(price_data_3br['NOI'].nlargest(3))\n",
    "\n",
    "print(\"\\n4 Bedroom NOI Data:\")\n",
    "print(price_data_4br['NOI'].nlargest(3))"
   ]
  },
  {
   "cell_type": "code",
   "execution_count": null,
   "id": "a34615bd-a10a-4da7-9165-137c54153447",
   "metadata": {},
   "outputs": [],
   "source": []
  }
 ],
 "metadata": {
  "kernelspec": {
   "display_name": "Python 3 (ipykernel)",
   "language": "python",
   "name": "python3"
  },
  "language_info": {
   "codemirror_mode": {
    "name": "ipython",
    "version": 3
   },
   "file_extension": ".py",
   "mimetype": "text/x-python",
   "name": "python",
   "nbconvert_exporter": "python",
   "pygments_lexer": "ipython3",
   "version": "3.9.6"
  }
 },
 "nbformat": 4,
 "nbformat_minor": 5
}

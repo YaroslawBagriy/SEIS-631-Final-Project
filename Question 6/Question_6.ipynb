{
 "cells": [
  {
   "cell_type": "markdown",
   "id": "0858534c-0176-43d4-b6d4-6ca100648bb3",
   "metadata": {},
   "source": [
    "# How much average monthly income I could expect from my investments in terms of lease/rent after upgrading properties, paying mortgage, and paying taxes. Calculate my ~ROI."
   ]
  },
  {
   "cell_type": "code",
   "execution_count": 1,
   "id": "5ac22e2c-6e8c-40d2-964d-abca469a9765",
   "metadata": {},
   "outputs": [],
   "source": [
    "import pandas as pd\n",
    "import numpy as np\n",
    "import matplotlib.pyplot as plt\n",
    "import os"
   ]
  },
  {
   "cell_type": "markdown",
   "id": "2741494a-8e82-474d-9bd3-4c13e4dfd8bc",
   "metadata": {},
   "source": [
    "### Assumptions\n",
    "\n",
    "- Apply an average upgrade cost to all properties (2%-6%, assume 4%) [Google](https://www.google.com/search?sca_esv=f9439907e5543505&rlz=1C5CHFA_enUS1066US1066&sxsrf=ADLYWIKGALe9lErWdMYpzzi_ACDXvpSxuQ:1733020033405&q=So+if+I+buy+a+house,+what+is+the+average+cost+to+spruce+up+the+house+(i.+paint,+carpet,+etc)?+Is+there+a+percentage+I+can+apply+to+the+home+value+to+get+this+value?&spell=1&sa=X&ved=2ahUKEwjY-OrbwoWKAxVarYkEHXoMMNsQBSgAegQIDRAB&biw=2560&bih=1318&dpr=1)\n",
    "- Mortage rate: 6.31% **Source:** [Bankrate](https://www.bankrate.com/mortgages/mortgage-rates/)\n",
    "- 30 year fixed mortgage\n",
    "- Property tax rates by state imported as property_tax_rates.csv **Source:** [Maptive](https://www.maptive.com/interactive-maps/property-taxes-by-state/)\n",
    "- Renters pay all utilities\n",
    "- Rent rates: Imported as rent_rates.csv **Source:** [Rentdata](https://www.rentdata.org/states/2024)"
   ]
  },
  {
   "cell_type": "code",
   "execution_count": null,
   "id": "f3a7ce44-3ac3-4ee9-a2c6-d8d1c1b1e7af",
   "metadata": {},
   "outputs": [],
   "source": []
  }
 ],
 "metadata": {
  "kernelspec": {
   "display_name": "Python 3 (ipykernel)",
   "language": "python",
   "name": "python3"
  },
  "language_info": {
   "codemirror_mode": {
    "name": "ipython",
    "version": 3
   },
   "file_extension": ".py",
   "mimetype": "text/x-python",
   "name": "python",
   "nbconvert_exporter": "python",
   "pygments_lexer": "ipython3",
   "version": "3.9.6"
  }
 },
 "nbformat": 4,
 "nbformat_minor": 5
}
